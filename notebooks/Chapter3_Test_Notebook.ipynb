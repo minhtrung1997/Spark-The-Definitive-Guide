{
  "cells": [
    {
      "cell_type": "markdown",
      "metadata": {
        "language": "markdown"
      },
      "source": [
        "# 1. Import Required Libraries and Initialize SparkSession\n",
        "Import `SparkSession` and create your Spark session."
      ]
    },
    {
      "cell_type": "code",
      "execution_count": 2,
      "id": "65f18f0f",
      "metadata": {},
      "outputs": [],
      "source": [
        "import os\n",
        "os.environ['JAVA_HOME'] = '/usr/lib/jvm/java-17-openjdk-amd64'\n",
        "os.environ['PATH'] = os.environ['JAVA_HOME'] + '/bin:' + os.environ['PATH']"
      ]
    },
    {
      "cell_type": "code",
      "execution_count": 3,
      "metadata": {
        "language": "python"
      },
      "outputs": [
        {
          "name": "stderr",
          "output_type": "stream",
          "text": [
            "WARNING: Using incubator modules: jdk.incubator.vector\n",
            "Using Spark's default log4j profile: org/apache/spark/log4j2-defaults.properties\n",
            "25/07/09 10:55:23 WARN Utils: Your hostname, codespaces-1164d4, resolves to a loopback address: 127.0.0.1; using 10.0.14.167 instead (on interface eth0)\n",
            "25/07/09 10:55:23 WARN Utils: Set SPARK_LOCAL_IP if you need to bind to another address\n",
            "Using Spark's default log4j profile: org/apache/spark/log4j2-defaults.properties\n",
            "Setting default log level to \"WARN\".\n",
            "To adjust logging level use sc.setLogLevel(newLevel). For SparkR, use setLogLevel(newLevel).\n",
            "25/07/09 10:55:27 WARN NativeCodeLoader: Unable to load native-hadoop library for your platform... using builtin-java classes where applicable\n"
          ]
        }
      ],
      "source": [
        "from pyspark.sql import SparkSession\n",
        "spark = SparkSession.builder.appName(\"Chapter 3 Example\").getOrCreate()"
      ]
    },
    {
      "cell_type": "markdown",
      "metadata": {
        "language": "markdown"
      },
      "source": [
        "# 2. Load Static CSV Data\n",
        "Read all retail data files into a static DataFrame."
      ]
    },
    {
      "cell_type": "code",
      "execution_count": 4,
      "metadata": {
        "language": "python"
      },
      "outputs": [
        {
          "name": "stderr",
          "output_type": "stream",
          "text": [
            "25/07/09 10:56:12 WARN FileStreamSink: Assume no metadata directory. Error while looking for metadata directory in the path: ../data/retail-data/by-day/*.csv.\n",
            "java.io.FileNotFoundException: File ../data/retail-data/by-day/*.csv does not exist\n",
            "\tat org.apache.hadoop.fs.RawLocalFileSystem.deprecatedGetFileStatus(RawLocalFileSystem.java:917)\n",
            "\tat org.apache.hadoop.fs.RawLocalFileSystem.getFileLinkStatusInternal(RawLocalFileSystem.java:1238)\n",
            "\tat org.apache.hadoop.fs.RawLocalFileSystem.getFileStatus(RawLocalFileSystem.java:907)\n",
            "\tat org.apache.hadoop.fs.FilterFileSystem.getFileStatus(FilterFileSystem.java:462)\n",
            "\tat org.apache.spark.sql.execution.streaming.FileStreamSink$.hasMetadata(FileStreamSink.scala:56)\n",
            "\tat org.apache.spark.sql.execution.datasources.DataSource.resolveRelation(DataSource.scala:381)\n",
            "\tat org.apache.spark.sql.catalyst.analysis.ResolveDataSource.org$apache$spark$sql$catalyst$analysis$ResolveDataSource$$loadV1BatchSource(ResolveDataSource.scala:143)\n",
            "\tat org.apache.spark.sql.catalyst.analysis.ResolveDataSource$$anonfun$apply$1.$anonfun$applyOrElse$2(ResolveDataSource.scala:61)\n",
            "\tat scala.Option.getOrElse(Option.scala:201)\n",
            "\tat org.apache.spark.sql.catalyst.analysis.ResolveDataSource$$anonfun$apply$1.applyOrElse(ResolveDataSource.scala:61)\n",
            "\tat org.apache.spark.sql.catalyst.analysis.ResolveDataSource$$anonfun$apply$1.applyOrElse(ResolveDataSource.scala:45)\n",
            "\tat org.apache.spark.sql.catalyst.plans.logical.AnalysisHelper.$anonfun$resolveOperatorsUpWithPruning$3(AnalysisHelper.scala:139)\n",
            "\tat org.apache.spark.sql.catalyst.trees.CurrentOrigin$.withOrigin(origin.scala:86)\n",
            "\tat org.apache.spark.sql.catalyst.plans.logical.AnalysisHelper.$anonfun$resolveOperatorsUpWithPruning$1(AnalysisHelper.scala:139)\n",
            "\tat org.apache.spark.sql.catalyst.plans.logical.AnalysisHelper$.allowInvokingTransformsInAnalyzer(AnalysisHelper.scala:416)\n",
            "\tat org.apache.spark.sql.catalyst.plans.logical.AnalysisHelper.resolveOperatorsUpWithPruning(AnalysisHelper.scala:135)\n",
            "\tat org.apache.spark.sql.catalyst.plans.logical.AnalysisHelper.resolveOperatorsUpWithPruning$(AnalysisHelper.scala:131)\n",
            "\tat org.apache.spark.sql.catalyst.plans.logical.LogicalPlan.resolveOperatorsUpWithPruning(LogicalPlan.scala:37)\n",
            "\tat org.apache.spark.sql.catalyst.plans.logical.AnalysisHelper.resolveOperatorsUp(AnalysisHelper.scala:112)\n",
            "\tat org.apache.spark.sql.catalyst.plans.logical.AnalysisHelper.resolveOperatorsUp$(AnalysisHelper.scala:111)\n",
            "\tat org.apache.spark.sql.catalyst.plans.logical.LogicalPlan.resolveOperatorsUp(LogicalPlan.scala:37)\n",
            "\tat org.apache.spark.sql.catalyst.analysis.ResolveDataSource.apply(ResolveDataSource.scala:45)\n",
            "\tat org.apache.spark.sql.catalyst.analysis.ResolveDataSource.apply(ResolveDataSource.scala:43)\n",
            "\tat org.apache.spark.sql.catalyst.rules.RuleExecutor.$anonfun$execute$2(RuleExecutor.scala:242)\n",
            "\tat scala.collection.LinearSeqOps.foldLeft(LinearSeq.scala:183)\n",
            "\tat scala.collection.LinearSeqOps.foldLeft$(LinearSeq.scala:179)\n",
            "\tat scala.collection.immutable.List.foldLeft(List.scala:79)\n",
            "\tat org.apache.spark.sql.catalyst.rules.RuleExecutor.$anonfun$execute$1(RuleExecutor.scala:239)\n",
            "\tat org.apache.spark.sql.catalyst.rules.RuleExecutor.$anonfun$execute$1$adapted(RuleExecutor.scala:231)\n",
            "\tat scala.collection.immutable.List.foreach(List.scala:334)\n",
            "\tat org.apache.spark.sql.catalyst.rules.RuleExecutor.execute(RuleExecutor.scala:231)\n",
            "\tat org.apache.spark.sql.catalyst.analysis.Analyzer.org$apache$spark$sql$catalyst$analysis$Analyzer$$executeSameContext(Analyzer.scala:290)\n",
            "\tat org.apache.spark.sql.catalyst.analysis.Analyzer.$anonfun$execute$1(Analyzer.scala:286)\n",
            "\tat org.apache.spark.sql.catalyst.analysis.AnalysisContext$.withNewAnalysisContext(Analyzer.scala:234)\n",
            "\tat org.apache.spark.sql.catalyst.analysis.Analyzer.execute(Analyzer.scala:286)\n",
            "\tat org.apache.spark.sql.catalyst.analysis.Analyzer.execute(Analyzer.scala:249)\n",
            "\tat org.apache.spark.sql.catalyst.rules.RuleExecutor.$anonfun$executeAndTrack$1(RuleExecutor.scala:201)\n",
            "\tat org.apache.spark.sql.catalyst.QueryPlanningTracker$.withTracker(QueryPlanningTracker.scala:89)\n",
            "\tat org.apache.spark.sql.catalyst.rules.RuleExecutor.executeAndTrack(RuleExecutor.scala:201)\n",
            "\tat org.apache.spark.sql.catalyst.analysis.resolver.HybridAnalyzer.resolveInFixedPoint(HybridAnalyzer.scala:190)\n",
            "\tat org.apache.spark.sql.catalyst.analysis.resolver.HybridAnalyzer.$anonfun$apply$1(HybridAnalyzer.scala:76)\n",
            "\tat org.apache.spark.sql.catalyst.analysis.resolver.HybridAnalyzer.withTrackedAnalyzerBridgeState(HybridAnalyzer.scala:111)\n",
            "\tat org.apache.spark.sql.catalyst.analysis.resolver.HybridAnalyzer.apply(HybridAnalyzer.scala:71)\n",
            "\tat org.apache.spark.sql.catalyst.analysis.Analyzer.$anonfun$executeAndCheck$1(Analyzer.scala:280)\n",
            "\tat org.apache.spark.sql.catalyst.plans.logical.AnalysisHelper$.markInAnalyzer(AnalysisHelper.scala:423)\n",
            "\tat org.apache.spark.sql.catalyst.analysis.Analyzer.executeAndCheck(Analyzer.scala:280)\n",
            "\tat org.apache.spark.sql.execution.QueryExecution.$anonfun$lazyAnalyzed$2(QueryExecution.scala:110)\n",
            "\tat org.apache.spark.sql.catalyst.QueryPlanningTracker.measurePhase(QueryPlanningTracker.scala:148)\n",
            "\tat org.apache.spark.sql.execution.QueryExecution.$anonfun$executePhase$2(QueryExecution.scala:278)\n",
            "\tat org.apache.spark.sql.execution.QueryExecution$.withInternalError(QueryExecution.scala:654)\n",
            "\tat org.apache.spark.sql.execution.QueryExecution.$anonfun$executePhase$1(QueryExecution.scala:278)\n",
            "\tat org.apache.spark.sql.SparkSession.withActive(SparkSession.scala:804)\n",
            "\tat org.apache.spark.sql.execution.QueryExecution.executePhase(QueryExecution.scala:277)\n",
            "\tat org.apache.spark.sql.execution.QueryExecution.$anonfun$lazyAnalyzed$1(QueryExecution.scala:110)\n",
            "\tat scala.util.Try$.apply(Try.scala:217)\n",
            "\tat org.apache.spark.util.Utils$.doTryWithCallerStacktrace(Utils.scala:1378)\n",
            "\tat org.apache.spark.util.LazyTry.tryT$lzycompute(LazyTry.scala:46)\n",
            "\tat org.apache.spark.util.LazyTry.tryT(LazyTry.scala:46)\n",
            "\tat org.apache.spark.util.LazyTry.get(LazyTry.scala:58)\n",
            "\tat org.apache.spark.sql.execution.QueryExecution.analyzed(QueryExecution.scala:121)\n",
            "\tat org.apache.spark.sql.execution.QueryExecution.assertAnalyzed(QueryExecution.scala:80)\n",
            "\tat org.apache.spark.sql.classic.Dataset$.$anonfun$ofRows$1(Dataset.scala:115)\n",
            "\tat org.apache.spark.sql.SparkSession.withActive(SparkSession.scala:804)\n",
            "\tat org.apache.spark.sql.classic.Dataset$.ofRows(Dataset.scala:113)\n",
            "\tat org.apache.spark.sql.classic.DataFrameReader.load(DataFrameReader.scala:109)\n",
            "\tat org.apache.spark.sql.classic.DataFrameReader.load(DataFrameReader.scala:100)\n",
            "\tat org.apache.spark.sql.classic.DataFrameReader.load(DataFrameReader.scala:58)\n",
            "\tat java.base/jdk.internal.reflect.NativeMethodAccessorImpl.invoke0(Native Method)\n",
            "\tat java.base/jdk.internal.reflect.NativeMethodAccessorImpl.invoke(NativeMethodAccessorImpl.java:77)\n",
            "\tat java.base/jdk.internal.reflect.DelegatingMethodAccessorImpl.invoke(DelegatingMethodAccessorImpl.java:43)\n",
            "\tat java.base/java.lang.reflect.Method.invoke(Method.java:569)\n",
            "\tat py4j.reflection.MethodInvoker.invoke(MethodInvoker.java:244)\n",
            "\tat py4j.reflection.ReflectionEngine.invoke(ReflectionEngine.java:374)\n",
            "\tat py4j.Gateway.invoke(Gateway.java:282)\n",
            "\tat py4j.commands.AbstractCommand.invokeMethod(AbstractCommand.java:132)\n",
            "\tat py4j.commands.CallCommand.execute(CallCommand.java:79)\n",
            "\tat py4j.ClientServerConnection.waitForCommands(ClientServerConnection.java:184)\n",
            "\tat py4j.ClientServerConnection.run(ClientServerConnection.java:108)\n",
            "\tat java.base/java.lang.Thread.run(Thread.java:840)\n",
            "                                                                                \r"
          ]
        }
      ],
      "source": [
        "staticDataFrame = spark.read.format(\"csv\") \\\n",
        "  .option(\"header\", \"true\") \\\n",
        "  .option(\"inferSchema\", \"true\") \\\n",
        "  .load(\"../data/retail-data/by-day/*.csv\")"
      ]
    },
    {
      "cell_type": "markdown",
      "metadata": {
        "language": "markdown"
      },
      "source": [
        "# 3. Create Temp View and Inspect Schema\n",
        "Register as SQL view and capture its schema."
      ]
    },
    {
      "cell_type": "code",
      "execution_count": 5,
      "metadata": {
        "language": "python"
      },
      "outputs": [
        {
          "name": "stdout",
          "output_type": "stream",
          "text": [
            "root\n",
            " |-- InvoiceNo: string (nullable = true)\n",
            " |-- StockCode: string (nullable = true)\n",
            " |-- Description: string (nullable = true)\n",
            " |-- Quantity: integer (nullable = true)\n",
            " |-- InvoiceDate: timestamp (nullable = true)\n",
            " |-- UnitPrice: double (nullable = true)\n",
            " |-- CustomerID: double (nullable = true)\n",
            " |-- Country: string (nullable = true)\n",
            "\n"
          ]
        }
      ],
      "source": [
        "staticDataFrame.createOrReplaceTempView(\"retail_data\")\n",
        "staticSchema = staticDataFrame.schema\n",
        "staticDataFrame.printSchema()"
      ]
    },
    {
      "cell_type": "markdown",
      "metadata": {
        "language": "markdown"
      },
      "source": [
        "# 4. Aggregate Static Data by Customer and Day\n",
        "Compute total daily spend per customer."
      ]
    },
    {
      "cell_type": "code",
      "execution_count": 6,
      "metadata": {
        "language": "python"
      },
      "outputs": [
        {
          "name": "stderr",
          "output_type": "stream",
          "text": [
            "[Stage 4:====================================================>     (9 + 1) / 10]\r"
          ]
        },
        {
          "name": "stdout",
          "output_type": "stream",
          "text": [
            "+----------+--------------------+------------------+\n",
            "|CustomerId|              window|   sum(total_cost)|\n",
            "+----------+--------------------+------------------+\n",
            "|   17450.0|{2011-09-20 00:00...|          71601.44|\n",
            "|      NULL|{2011-11-14 00:00...|          55316.08|\n",
            "|      NULL|{2011-11-07 00:00...|          42939.17|\n",
            "|      NULL|{2011-03-29 00:00...| 33521.39999999998|\n",
            "|      NULL|{2011-12-08 00:00...|31975.590000000007|\n",
            "+----------+--------------------+------------------+\n",
            "only showing top 5 rows\n"
          ]
        },
        {
          "name": "stderr",
          "output_type": "stream",
          "text": [
            "                                                                                \r"
          ]
        }
      ],
      "source": [
        "from pyspark.sql.functions import window, col, desc\n",
        "\n",
        "staticDataFrame \\\n",
        "  .selectExpr(\"CustomerId\", \"(UnitPrice * Quantity) as total_cost\", \"InvoiceDate\") \\\n",
        "  .groupBy(col(\"CustomerId\"), window(col(\"InvoiceDate\"), \"1 day\")) \\\n",
        "  .sum(\"total_cost\") \\\n",
        "  .sort(desc(\"sum(total_cost)\")) \\\n",
        "  .show(5)"
      ]
    },
    {
      "cell_type": "markdown",
      "metadata": {
        "language": "markdown"
      },
      "source": [
        "# 5. Read as Streaming DataFrame\n",
        "Use the same schema, process one file per trigger."
      ]
    },
    {
      "cell_type": "code",
      "execution_count": 7,
      "metadata": {
        "language": "python"
      },
      "outputs": [
        {
          "name": "stderr",
          "output_type": "stream",
          "text": [
            "                                                                                \r"
          ]
        }
      ],
      "source": [
        "streamingDataFrame = spark.readStream \\\n",
        "  .schema(staticSchema) \\\n",
        "  .option(\"maxFilesPerTrigger\", 1) \\\n",
        "  .format(\"csv\") \\\n",
        "  .option(\"header\", \"true\") \\\n",
        "  .load(\"../data/retail-data/by-day/*.csv\")"
      ]
    },
    {
      "cell_type": "markdown",
      "metadata": {
        "language": "markdown"
      },
      "source": [
        "# 6. Compute Streaming Aggregation\n",
        "Sum total_cost per customer per day."
      ]
    },
    {
      "cell_type": "code",
      "execution_count": 8,
      "metadata": {
        "language": "python"
      },
      "outputs": [],
      "source": [
        "purchaseByCustomerPerHour = streamingDataFrame \\\n",
        "  .selectExpr(\"CustomerId\", \"(UnitPrice * Quantity) as total_cost\", \"InvoiceDate\") \\\n",
        "  .groupBy(col(\"CustomerId\"), window(col(\"InvoiceDate\"), \"1 day\")) \\\n",
        "  .sum(\"total_cost\")"
      ]
    },
    {
      "cell_type": "markdown",
      "metadata": {
        "language": "markdown"
      },
      "source": [
        "# 7. Start In-Memory Sink and Query\n",
        "Write streaming results to memory and query."
      ]
    },
    {
      "cell_type": "code",
      "execution_count": 9,
      "metadata": {
        "language": "python"
      },
      "outputs": [
        {
          "name": "stderr",
          "output_type": "stream",
          "text": [
            "25/07/09 11:02:49 WARN ResolveWriteToStream: Temporary checkpoint location created which is deleted normally when the query didn't fail: /tmp/temporary-a064bbda-2abd-4530-88c7-4af8974fab7e. If it's required to delete it under any circumstances, please set spark.sql.streaming.forceDeleteTempCheckpointLocation to true. Important to know deleting temp checkpoint folder is best effort.\n",
            "25/07/09 11:02:49 WARN ResolveWriteToStream: spark.sql.adaptive.enabled is not supported in streaming DataFrames/Datasets and will be disabled.\n"
          ]
        },
        {
          "name": "stdout",
          "output_type": "stream",
          "text": [
            "+----------+------+---------------+\n",
            "|CustomerId|window|sum(total_cost)|\n",
            "+----------+------+---------------+\n",
            "+----------+------+---------------+\n",
            "\n"
          ]
        },
        {
          "name": "stderr",
          "output_type": "stream",
          "text": [
            "[Stage 318:===============================================>     (181 + 2) / 200]\r"
          ]
        }
      ],
      "source": [
        "purchaseByCustomerPerHour.writeStream \\\n",
        "  .format(\"memory\") \\\n",
        "  .queryName(\"customer_purchases\") \\\n",
        "  .outputMode(\"complete\") \\\n",
        "  .start()\n",
        "\n",
        "spark.sql(\"\"\"\n",
        "  SELECT *\n",
        "  FROM customer_purchases\n",
        "  ORDER BY `sum(total_cost)` DESC\n",
        "\"\"\") \\\n",
        "  .show(5)"
      ]
    },
    {
      "cell_type": "code",
      "execution_count": 10,
      "id": "5c2eb323",
      "metadata": {},
      "outputs": [
        {
          "name": "stdout",
          "output_type": "stream",
          "text": [
            "Stopping query: customer_purchases\n"
          ]
        },
        {
          "name": "stderr",
          "output_type": "stream",
          "text": [
            "25/07/09 11:20:51 ERROR WriteToDataSourceV2Exec: Data source write support MicroBatchWrite[epoch: 154, writer: org.apache.spark.sql.execution.streaming.sources.MemoryStreamingWrite@17f898d1] is aborting.\n",
            "25/07/09 11:20:51 ERROR WriteToDataSourceV2Exec: Data source write support MicroBatchWrite[epoch: 154, writer: org.apache.spark.sql.execution.streaming.sources.MemoryStreamingWrite@17f898d1] aborted.\n",
            "25/07/09 11:20:52 ERROR Utils: Aborting task===============>    (183 + 2) / 200]\n",
            "org.apache.spark.SparkException: [CANNOT_WRITE_STATE_STORE.CANNOT_COMMIT] Error writing state store files for provider HDFSStateStore[id=(op=0,part=186),dir=file:/tmp/temporary-a064bbda-2abd-4530-88c7-4af8974fab7e/state/0/186]. Cannot perform commit during state checkpoint. SQLSTATE: 58030\n",
            "\tat org.apache.spark.sql.errors.QueryExecutionErrors$.failedToCommitStateFileError(QueryExecutionErrors.scala:2206)\n",
            "\tat org.apache.spark.sql.execution.streaming.state.HDFSBackedStateStoreProvider$HDFSBackedStateStore.commit(HDFSBackedStateStoreProvider.scala:179)\n",
            "\tat org.apache.spark.sql.execution.streaming.state.StreamingAggregationStateManagerBaseImpl.commit(StreamingAggregationStateManager.scala:90)\n",
            "\tat org.apache.spark.sql.execution.streaming.StateStoreSaveExec$$anon$1.$anonfun$close$1(statefulOperators.scala:744)\n",
            "\tat scala.runtime.java8.JFunction0$mcV$sp.apply(JFunction0$mcV$sp.scala:18)\n",
            "\tat org.apache.spark.util.Utils$.timeTakenMs(Utils.scala:481)\n",
            "\tat org.apache.spark.sql.execution.streaming.StateStoreWriter.timeTakenMs(statefulOperators.scala:348)\n",
            "\tat org.apache.spark.sql.execution.streaming.StateStoreWriter.timeTakenMs$(statefulOperators.scala:348)\n",
            "\tat org.apache.spark.sql.execution.streaming.StateStoreSaveExec.timeTakenMs(statefulOperators.scala:671)\n",
            "\tat org.apache.spark.sql.execution.streaming.StateStoreSaveExec$$anon$1.close(statefulOperators.scala:744)\n",
            "\tat org.apache.spark.util.NextIterator.closeIfNeeded(NextIterator.scala:66)\n",
            "\tat org.apache.spark.util.NextIterator.hasNext(NextIterator.scala:75)\n",
            "\tat org.apache.spark.sql.catalyst.expressions.GeneratedClass$GeneratedIteratorForCodegenStage4.hashAgg_doAggregateWithKeys_0$(Unknown Source)\n",
            "\tat org.apache.spark.sql.catalyst.expressions.GeneratedClass$GeneratedIteratorForCodegenStage4.processNext(Unknown Source)\n",
            "\tat org.apache.spark.sql.execution.BufferedRowIterator.hasNext(BufferedRowIterator.java:43)\n",
            "\tat org.apache.spark.sql.execution.WholeStageCodegenEvaluatorFactory$WholeStageCodegenPartitionEvaluator$$anon$1.hasNext(WholeStageCodegenEvaluatorFactory.scala:50)\n",
            "\tat org.apache.spark.sql.execution.datasources.v2.WritingSparkTask$IteratorWithMetrics.hasNext(WriteToDataSourceV2Exec.scala:545)\n",
            "\tat org.apache.spark.sql.connector.write.DataWriter.writeAll(DataWriter.java:107)\n",
            "\tat org.apache.spark.sql.execution.streaming.sources.MemoryDataWriter.writeAll(memory.scala:177)\n",
            "\tat org.apache.spark.sql.execution.datasources.v2.DataWritingSparkTask$.write(WriteToDataSourceV2Exec.scala:587)\n",
            "\tat org.apache.spark.sql.execution.datasources.v2.WritingSparkTask.$anonfun$run$5(WriteToDataSourceV2Exec.scala:483)\n",
            "\tat org.apache.spark.util.Utils$.tryWithSafeFinallyAndFailureCallbacks(Utils.scala:1323)\n",
            "\tat org.apache.spark.sql.execution.datasources.v2.WritingSparkTask.run(WriteToDataSourceV2Exec.scala:535)\n",
            "\tat org.apache.spark.sql.execution.datasources.v2.WritingSparkTask.run$(WriteToDataSourceV2Exec.scala:466)\n",
            "\tat org.apache.spark.sql.execution.datasources.v2.DataWritingSparkTask$.run(WriteToDataSourceV2Exec.scala:584)\n",
            "\tat org.apache.spark.sql.execution.datasources.v2.V2TableWriteExec.$anonfun$writeWithV2$2(WriteToDataSourceV2Exec.scala:427)\n",
            "\tat org.apache.spark.scheduler.ResultTask.runTask(ResultTask.scala:93)\n",
            "\tat org.apache.spark.TaskContext.runTaskWithListeners(TaskContext.scala:171)\n",
            "\tat org.apache.spark.scheduler.Task.run(Task.scala:147)\n",
            "\tat org.apache.spark.executor.Executor$TaskRunner.$anonfun$run$5(Executor.scala:647)\n",
            "\tat org.apache.spark.util.SparkErrorUtils.tryWithSafeFinally(SparkErrorUtils.scala:80)\n",
            "\tat org.apache.spark.util.SparkErrorUtils.tryWithSafeFinally$(SparkErrorUtils.scala:77)\n",
            "\tat org.apache.spark.util.Utils$.tryWithSafeFinally(Utils.scala:99)\n",
            "\tat org.apache.spark.executor.Executor$TaskRunner.run(Executor.scala:650)\n",
            "\tat java.base/java.util.concurrent.ThreadPoolExecutor.runWorker(ThreadPoolExecutor.java:1136)\n",
            "\tat java.base/java.util.concurrent.ThreadPoolExecutor$Worker.run(ThreadPoolExecutor.java:635)\n",
            "\tat java.base/java.lang.Thread.run(Thread.java:840)\n",
            "Caused by: java.io.InterruptedIOException: java.lang.InterruptedException\n",
            "\tat org.apache.hadoop.util.Shell.runCommand(Shell.java:1071)\n",
            "\tat org.apache.hadoop.util.Shell.run(Shell.java:959)\n",
            "\tat org.apache.hadoop.util.Shell$ShellCommandExecutor.execute(Shell.java:1282)\n",
            "\tat org.apache.hadoop.util.Shell.execCommand(Shell.java:1377)\n",
            "\tat org.apache.hadoop.util.Shell.execCommand(Shell.java:1359)\n",
            "\tat org.apache.hadoop.fs.RawLocalFileSystem.setPermission(RawLocalFileSystem.java:1116)\n",
            "\tat org.apache.hadoop.fs.RawLocalFileSystem$LocalFSFileOutputStream.<init>(RawLocalFileSystem.java:454)\n",
            "\tat org.apache.hadoop.fs.RawLocalFileSystem$LocalFSFileOutputStream.<init>(RawLocalFileSystem.java:414)\n",
            "\tat org.apache.hadoop.fs.RawLocalFileSystem.createOutputStreamWithMode(RawLocalFileSystem.java:577)\n",
            "\tat org.apache.hadoop.fs.RawLocalFileSystem.create(RawLocalFileSystem.java:566)\n",
            "\tat org.apache.hadoop.fs.RawLocalFileSystem.create(RawLocalFileSystem.java:597)\n",
            "\tat org.apache.hadoop.fs.FileSystem.primitiveCreate(FileSystem.java:1356)\n",
            "\tat org.apache.hadoop.fs.DelegateToFileSystem.createInternal(DelegateToFileSystem.java:107)\n",
            "\tat org.apache.hadoop.fs.ChecksumFs$ChecksumFSOutputSummer.<init>(ChecksumFs.java:376)\n",
            "\tat org.apache.hadoop.fs.ChecksumFs.createInternal(ChecksumFs.java:423)\n",
            "\tat org.apache.hadoop.fs.AbstractFileSystem.create(AbstractFileSystem.java:638)\n",
            "\tat org.apache.hadoop.fs.FileContext$3.next(FileContext.java:703)\n",
            "\tat org.apache.hadoop.fs.FileContext$3.next(FileContext.java:699)\n",
            "\tat org.apache.hadoop.fs.FSLinkResolver.resolve(FSLinkResolver.java:90)\n",
            "\tat org.apache.hadoop.fs.FileContext.create(FileContext.java:705)\n",
            "\tat org.apache.spark.sql.execution.streaming.FileContextBasedCheckpointFileManager.createTempFile(CheckpointFileManager.scala:365)\n",
            "\tat org.apache.spark.sql.execution.streaming.CheckpointFileManager$RenameBasedFSDataOutputStream.<init>(CheckpointFileManager.scala:141)\n",
            "\tat org.apache.spark.sql.execution.streaming.CheckpointFileManager$RenameBasedFSDataOutputStream.<init>(CheckpointFileManager.scala:144)\n",
            "\tat org.apache.spark.sql.execution.streaming.FileContextBasedCheckpointFileManager.createAtomic(CheckpointFileManager.scala:371)\n",
            "\tat org.apache.spark.sql.execution.streaming.state.HDFSBackedStateStoreProvider$HDFSBackedStateStore.deltaFileStream$lzycompute(HDFSBackedStateStoreProvider.scala:119)\n",
            "\tat org.apache.spark.sql.execution.streaming.state.HDFSBackedStateStoreProvider$HDFSBackedStateStore.deltaFileStream(HDFSBackedStateStoreProvider.scala:119)\n",
            "\tat org.apache.spark.sql.execution.streaming.state.HDFSBackedStateStoreProvider$HDFSBackedStateStore.compressedStream$lzycompute(HDFSBackedStateStoreProvider.scala:120)\n",
            "\tat org.apache.spark.sql.execution.streaming.state.HDFSBackedStateStoreProvider$HDFSBackedStateStore.compressedStream(HDFSBackedStateStoreProvider.scala:120)\n",
            "\tat org.apache.spark.sql.execution.streaming.state.HDFSBackedStateStoreProvider$HDFSBackedStateStore.commit(HDFSBackedStateStoreProvider.scala:171)\n",
            "\t... 35 more\n",
            "Caused by: java.lang.InterruptedException\n",
            "\tat java.base/java.lang.Object.wait(Native Method)\n",
            "\tat java.base/java.lang.Object.wait(Object.java:338)\n",
            "\tat java.base/java.lang.ProcessImpl.waitFor(ProcessImpl.java:434)\n",
            "\tat org.apache.hadoop.util.Shell.runCommand(Shell.java:1061)\n",
            "\t... 63 more\n",
            "25/07/09 11:20:52 ERROR DataWritingSparkTask: Aborting commit for partition 186 (task 32383, attempt 0, stage 318.0)\n",
            "25/07/09 11:20:52 ERROR DataWritingSparkTask: Aborted commit for partition 186 (task 32383, attempt 0, stage 318.0)\n",
            "25/07/09 11:20:52 ERROR Utils: Aborting task\n",
            "org.apache.spark.SparkException: [CANNOT_WRITE_STATE_STORE.CANNOT_COMMIT] Error writing state store files for provider HDFSStateStore[id=(op=0,part=185),dir=file:/tmp/temporary-a064bbda-2abd-4530-88c7-4af8974fab7e/state/0/185]. Cannot perform commit during state checkpoint. SQLSTATE: 58030\n",
            "\tat org.apache.spark.sql.errors.QueryExecutionErrors$.failedToCommitStateFileError(QueryExecutionErrors.scala:2206)\n",
            "\tat org.apache.spark.sql.execution.streaming.state.HDFSBackedStateStoreProvider$HDFSBackedStateStore.commit(HDFSBackedStateStoreProvider.scala:179)\n",
            "\tat org.apache.spark.sql.execution.streaming.state.StreamingAggregationStateManagerBaseImpl.commit(StreamingAggregationStateManager.scala:90)\n",
            "\tat org.apache.spark.sql.execution.streaming.StateStoreSaveExec$$anon$1.$anonfun$close$1(statefulOperators.scala:744)\n",
            "\tat scala.runtime.java8.JFunction0$mcV$sp.apply(JFunction0$mcV$sp.scala:18)\n",
            "\tat org.apache.spark.util.Utils$.timeTakenMs(Utils.scala:481)\n",
            "\tat org.apache.spark.sql.execution.streaming.StateStoreWriter.timeTakenMs(statefulOperators.scala:348)\n",
            "\tat org.apache.spark.sql.execution.streaming.StateStoreWriter.timeTakenMs$(statefulOperators.scala:348)\n",
            "\tat org.apache.spark.sql.execution.streaming.StateStoreSaveExec.timeTakenMs(statefulOperators.scala:671)\n",
            "\tat org.apache.spark.sql.execution.streaming.StateStoreSaveExec$$anon$1.close(statefulOperators.scala:744)\n",
            "\tat org.apache.spark.util.NextIterator.closeIfNeeded(NextIterator.scala:66)\n",
            "\tat org.apache.spark.util.NextIterator.hasNext(NextIterator.scala:75)\n",
            "\tat org.apache.spark.sql.catalyst.expressions.GeneratedClass$GeneratedIteratorForCodegenStage4.hashAgg_doAggregateWithKeys_0$(Unknown Source)\n",
            "\tat org.apache.spark.sql.catalyst.expressions.GeneratedClass$GeneratedIteratorForCodegenStage4.processNext(Unknown Source)\n",
            "\tat org.apache.spark.sql.execution.BufferedRowIterator.hasNext(BufferedRowIterator.java:43)\n",
            "\tat org.apache.spark.sql.execution.WholeStageCodegenEvaluatorFactory$WholeStageCodegenPartitionEvaluator$$anon$1.hasNext(WholeStageCodegenEvaluatorFactory.scala:50)\n",
            "\tat org.apache.spark.sql.execution.datasources.v2.WritingSparkTask$IteratorWithMetrics.hasNext(WriteToDataSourceV2Exec.scala:545)\n",
            "\tat org.apache.spark.sql.connector.write.DataWriter.writeAll(DataWriter.java:107)\n",
            "\tat org.apache.spark.sql.execution.streaming.sources.MemoryDataWriter.writeAll(memory.scala:177)\n",
            "\tat org.apache.spark.sql.execution.datasources.v2.DataWritingSparkTask$.write(WriteToDataSourceV2Exec.scala:587)\n",
            "\tat org.apache.spark.sql.execution.datasources.v2.WritingSparkTask.$anonfun$run$5(WriteToDataSourceV2Exec.scala:483)\n",
            "\tat org.apache.spark.util.Utils$.tryWithSafeFinallyAndFailureCallbacks(Utils.scala:1323)\n",
            "\tat org.apache.spark.sql.execution.datasources.v2.WritingSparkTask.run(WriteToDataSourceV2Exec.scala:535)\n",
            "\tat org.apache.spark.sql.execution.datasources.v2.WritingSparkTask.run$(WriteToDataSourceV2Exec.scala:466)\n",
            "\tat org.apache.spark.sql.execution.datasources.v2.DataWritingSparkTask$.run(WriteToDataSourceV2Exec.scala:584)\n",
            "\tat org.apache.spark.sql.execution.datasources.v2.V2TableWriteExec.$anonfun$writeWithV2$2(WriteToDataSourceV2Exec.scala:427)\n",
            "\tat org.apache.spark.scheduler.ResultTask.runTask(ResultTask.scala:93)\n",
            "\tat org.apache.spark.TaskContext.runTaskWithListeners(TaskContext.scala:171)\n",
            "\tat org.apache.spark.scheduler.Task.run(Task.scala:147)\n",
            "\tat org.apache.spark.executor.Executor$TaskRunner.$anonfun$run$5(Executor.scala:647)\n",
            "\tat org.apache.spark.util.SparkErrorUtils.tryWithSafeFinally(SparkErrorUtils.scala:80)\n",
            "\tat org.apache.spark.util.SparkErrorUtils.tryWithSafeFinally$(SparkErrorUtils.scala:77)\n",
            "\tat org.apache.spark.util.Utils$.tryWithSafeFinally(Utils.scala:99)\n",
            "\tat org.apache.spark.executor.Executor$TaskRunner.run(Executor.scala:650)\n",
            "\tat java.base/java.util.concurrent.ThreadPoolExecutor.runWorker(ThreadPoolExecutor.java:1136)\n",
            "\tat java.base/java.util.concurrent.ThreadPoolExecutor$Worker.run(ThreadPoolExecutor.java:635)\n",
            "\tat java.base/java.lang.Thread.run(Thread.java:840)\n",
            "Caused by: java.io.InterruptedIOException: java.lang.InterruptedException\n",
            "\tat org.apache.hadoop.util.Shell.runCommand(Shell.java:1071)\n",
            "\tat org.apache.hadoop.util.Shell.run(Shell.java:959)\n",
            "\tat org.apache.hadoop.util.Shell$ShellCommandExecutor.execute(Shell.java:1282)\n",
            "\tat org.apache.hadoop.util.Shell.execCommand(Shell.java:1377)\n",
            "\tat org.apache.hadoop.util.Shell.execCommand(Shell.java:1359)\n",
            "\tat org.apache.hadoop.fs.RawLocalFileSystem.setPermission(RawLocalFileSystem.java:1116)\n",
            "\tat org.apache.hadoop.fs.RawLocalFileSystem$LocalFSFileOutputStream.<init>(RawLocalFileSystem.java:454)\n",
            "\tat org.apache.hadoop.fs.RawLocalFileSystem$LocalFSFileOutputStream.<init>(RawLocalFileSystem.java:414)\n",
            "\tat org.apache.hadoop.fs.RawLocalFileSystem.createOutputStreamWithMode(RawLocalFileSystem.java:577)\n",
            "\tat org.apache.hadoop.fs.RawLocalFileSystem.create(RawLocalFileSystem.java:566)\n",
            "\tat org.apache.hadoop.fs.RawLocalFileSystem.create(RawLocalFileSystem.java:597)\n",
            "\tat org.apache.hadoop.fs.FileSystem.primitiveCreate(FileSystem.java:1356)\n",
            "\tat org.apache.hadoop.fs.DelegateToFileSystem.createInternal(DelegateToFileSystem.java:107)\n",
            "\tat org.apache.hadoop.fs.ChecksumFs$ChecksumFSOutputSummer.<init>(ChecksumFs.java:383)\n",
            "\tat org.apache.hadoop.fs.ChecksumFs.createInternal(ChecksumFs.java:423)\n",
            "\tat org.apache.hadoop.fs.AbstractFileSystem.create(AbstractFileSystem.java:638)\n",
            "\tat org.apache.hadoop.fs.FileContext$3.next(FileContext.java:703)\n",
            "\tat org.apache.hadoop.fs.FileContext$3.next(FileContext.java:699)\n",
            "\tat org.apache.hadoop.fs.FSLinkResolver.resolve(FSLinkResolver.java:90)\n",
            "\tat org.apache.hadoop.fs.FileContext.create(FileContext.java:705)\n",
            "\tat org.apache.spark.sql.execution.streaming.FileContextBasedCheckpointFileManager.createTempFile(CheckpointFileManager.scala:365)\n",
            "\tat org.apache.spark.sql.execution.streaming.CheckpointFileManager$RenameBasedFSDataOutputStream.<init>(CheckpointFileManager.scala:141)\n",
            "\tat org.apache.spark.sql.execution.streaming.CheckpointFileManager$RenameBasedFSDataOutputStream.<init>(CheckpointFileManager.scala:144)\n",
            "\tat org.apache.spark.sql.execution.streaming.FileContextBasedCheckpointFileManager.createAtomic(CheckpointFileManager.scala:371)\n",
            "\tat org.apache.spark.sql.execution.streaming.state.HDFSBackedStateStoreProvider$HDFSBackedStateStore.deltaFileStream$lzycompute(HDFSBackedStateStoreProvider.scala:119)\n",
            "\tat org.apache.spark.sql.execution.streaming.state.HDFSBackedStateStoreProvider$HDFSBackedStateStore.deltaFileStream(HDFSBackedStateStoreProvider.scala:119)\n",
            "\tat org.apache.spark.sql.execution.streaming.state.HDFSBackedStateStoreProvider$HDFSBackedStateStore.compressedStream$lzycompute(HDFSBackedStateStoreProvider.scala:120)\n",
            "\tat org.apache.spark.sql.execution.streaming.state.HDFSBackedStateStoreProvider$HDFSBackedStateStore.compressedStream(HDFSBackedStateStoreProvider.scala:120)\n",
            "\tat org.apache.spark.sql.execution.streaming.state.HDFSBackedStateStoreProvider$HDFSBackedStateStore.commit(HDFSBackedStateStoreProvider.scala:171)\n",
            "\t... 35 more\n",
            "Caused by: java.lang.InterruptedException\n",
            "\tat java.base/java.lang.Object.wait(Native Method)\n",
            "\tat java.base/java.lang.Object.wait(Object.java:338)\n",
            "\tat java.base/java.lang.ProcessImpl.waitFor(ProcessImpl.java:434)\n",
            "\tat org.apache.hadoop.util.Shell.runCommand(Shell.java:1061)\n",
            "\t... 63 more\n",
            "25/07/09 11:20:52 ERROR DataWritingSparkTask: Aborting commit for partition 185 (task 32382, attempt 0, stage 318.0)\n",
            "25/07/09 11:20:52 ERROR DataWritingSparkTask: Aborted commit for partition 185 (task 32382, attempt 0, stage 318.0)\n",
            "25/07/09 11:20:52 WARN TaskSetManager: Lost task 186.0 in stage 318.0 (TID 32383) (35d0d6e9-2f8f-4ad3-8320-b3a34f12d48b.internal.cloudapp.net executor driver): TaskKilled (Stage cancelled: [SPARK_JOB_CANCELLED] Job 162 cancelled Query customer_purchases [id = 8c02a9d1-c01a-46fa-920f-a88a35e81af4, runId = cee56e47-5491-4eb2-9870-4b74b908d4f1] was stopped SQLSTATE: XXKDA)\n",
            "25/07/09 11:20:52 WARN TaskSetManager: Lost task 185.0 in stage 318.0 (TID 32382) (35d0d6e9-2f8f-4ad3-8320-b3a34f12d48b.internal.cloudapp.net executor driver): TaskKilled (Stage cancelled: [SPARK_JOB_CANCELLED] Job 162 cancelled Query customer_purchases [id = 8c02a9d1-c01a-46fa-920f-a88a35e81af4, runId = cee56e47-5491-4eb2-9870-4b74b908d4f1] was stopped SQLSTATE: XXKDA)\n",
            "25/07/09 11:20:54 WARN HDFSBackedStateStoreProvider: Error doing snapshots for HDFSStateStoreProvider[id = (op=0,part=0),dir = file:/tmp/temporary-a064bbda-2abd-4530-88c7-4af8974fab7e/state/0/0]\n",
            "java.io.FileNotFoundException: File file:/tmp/temporary-a064bbda-2abd-4530-88c7-4af8974fab7e/state/0/0/.155.snapshot.116c899e-868f-4f73-96b1-8f0a018d2207.tmp does not exist\n",
            "\tat org.apache.hadoop.fs.RawLocalFileSystem.deprecatedGetFileStatus(RawLocalFileSystem.java:917)\n",
            "\tat org.apache.hadoop.fs.RawLocalFileSystem.getFileLinkStatusInternal(RawLocalFileSystem.java:1238)\n",
            "\tat org.apache.hadoop.fs.RawLocalFileSystem.getFileStatus(RawLocalFileSystem.java:907)\n",
            "\tat org.apache.hadoop.fs.FileUtil.copy(FileUtil.java:431)\n",
            "\tat org.apache.hadoop.fs.FileUtil.copy(FileUtil.java:370)\n",
            "\tat org.apache.hadoop.fs.RawLocalFileSystem.rename(RawLocalFileSystem.java:643)\n",
            "\tat org.apache.hadoop.fs.FileSystem.rename(FileSystem.java:1723)\n",
            "\tat org.apache.hadoop.fs.DelegateToFileSystem.renameInternal(DelegateToFileSystem.java:211)\n",
            "\tat org.apache.hadoop.fs.AbstractFileSystem.renameInternal(AbstractFileSystem.java:896)\n",
            "\tat org.apache.hadoop.fs.AbstractFileSystem.rename(AbstractFileSystem.java:807)\n",
            "\tat org.apache.hadoop.fs.ChecksumFs.renameInternal(ChecksumFs.java:512)\n",
            "\tat org.apache.hadoop.fs.AbstractFileSystem.rename(AbstractFileSystem.java:807)\n",
            "\tat org.apache.hadoop.fs.FileContext.rename(FileContext.java:1044)\n",
            "\tat org.apache.spark.sql.execution.streaming.FileContextBasedCheckpointFileManager.renameTempFile(CheckpointFileManager.scala:376)\n",
            "\tat org.apache.spark.sql.execution.streaming.CheckpointFileManager$RenameBasedFSDataOutputStream.close(CheckpointFileManager.scala:156)\n",
            "\tat net.jpountz.lz4.LZ4BlockOutputStream.close(LZ4BlockOutputStream.java:198)\n",
            "\tat java.base/java.io.FilterOutputStream.close(FilterOutputStream.java:188)\n",
            "\tat org.apache.spark.sql.execution.streaming.state.HDFSBackedStateStoreProvider.writeSnapshotFile(HDFSBackedStateStoreProvider.scala:671)\n",
            "\tat org.apache.spark.sql.execution.streaming.state.HDFSBackedStateStoreProvider.$anonfun$doSnapshot$4(HDFSBackedStateStoreProvider.scala:785)\n",
            "\tat scala.runtime.java8.JFunction0$mcV$sp.apply(JFunction0$mcV$sp.scala:18)\n",
            "\tat org.apache.spark.util.Utils$.timeTakenMs(Utils.scala:481)\n",
            "\tat org.apache.spark.sql.execution.streaming.state.HDFSBackedStateStoreProvider.doSnapshot(HDFSBackedStateStoreProvider.scala:785)\n",
            "\tat org.apache.spark.sql.execution.streaming.state.HDFSBackedStateStoreProvider.doMaintenance(HDFSBackedStateStoreProvider.scala:369)\n",
            "\tat org.apache.spark.sql.execution.streaming.state.StateStore$.$anonfun$doMaintenance$3(StateStore.scala:959)\n",
            "\tat java.base/java.util.concurrent.ThreadPoolExecutor.runWorker(ThreadPoolExecutor.java:1136)\n",
            "\tat java.base/java.util.concurrent.ThreadPoolExecutor$Worker.run(ThreadPoolExecutor.java:635)\n",
            "\tat java.base/java.lang.Thread.run(Thread.java:840)\n",
            "25/07/09 11:20:54 WARN FileUtil: Failed to delete file or dir [/tmp/temporary-a064bbda-2abd-4530-88c7-4af8974fab7e/state/0/121]: it still exists.\n",
            "25/07/09 11:20:54 WARN HDFSBackedStateStoreProvider: Error doing snapshots for HDFSStateStoreProvider[id = (op=0,part=121),dir = file:/tmp/temporary-a064bbda-2abd-4530-88c7-4af8974fab7e/state/0/121]\n",
            "java.io.FileNotFoundException: File file:/tmp/temporary-a064bbda-2abd-4530-88c7-4af8974fab7e/state/0/121/..155.snapshot.659bcec9-dd1a-4b8c-b0ec-11e757799a3a.tmp.crc does not exist\n",
            "\tat org.apache.hadoop.fs.RawLocalFileSystem.deprecatedGetFileStatus(RawLocalFileSystem.java:917)\n",
            "\tat org.apache.hadoop.fs.RawLocalFileSystem.getFileLinkStatusInternal(RawLocalFileSystem.java:1238)\n",
            "\tat org.apache.hadoop.fs.RawLocalFileSystem.getFileStatus(RawLocalFileSystem.java:907)\n",
            "\tat org.apache.hadoop.fs.RawLocalFileSystem.deprecatedGetFileLinkStatusInternal(RawLocalFileSystem.java:1254)\n",
            "\tat org.apache.hadoop.fs.RawLocalFileSystem.getFileLinkStatusInternal(RawLocalFileSystem.java:1240)\n",
            "\tat org.apache.hadoop.fs.RawLocalFileSystem.getFileLinkStatus(RawLocalFileSystem.java:1211)\n",
            "\tat org.apache.hadoop.fs.FileSystem.rename(FileSystem.java:1673)\n",
            "\tat org.apache.hadoop.fs.DelegateToFileSystem.renameInternal(DelegateToFileSystem.java:211)\n",
            "\tat org.apache.hadoop.fs.AbstractFileSystem.renameInternal(AbstractFileSystem.java:896)\n",
            "\tat org.apache.hadoop.fs.AbstractFileSystem.rename(AbstractFileSystem.java:807)\n",
            "\tat org.apache.hadoop.fs.ChecksumFs.renameInternal(ChecksumFs.java:519)\n",
            "\tat org.apache.hadoop.fs.AbstractFileSystem.rename(AbstractFileSystem.java:807)\n",
            "\tat org.apache.hadoop.fs.FileContext.rename(FileContext.java:1044)\n",
            "\tat org.apache.spark.sql.execution.streaming.FileContextBasedCheckpointFileManager.renameTempFile(CheckpointFileManager.scala:376)\n",
            "\tat org.apache.spark.sql.execution.streaming.CheckpointFileManager$RenameBasedFSDataOutputStream.close(CheckpointFileManager.scala:156)\n",
            "\tat net.jpountz.lz4.LZ4BlockOutputStream.close(LZ4BlockOutputStream.java:198)\n",
            "\tat java.base/java.io.FilterOutputStream.close(FilterOutputStream.java:188)\n",
            "\tat org.apache.spark.sql.execution.streaming.state.HDFSBackedStateStoreProvider.writeSnapshotFile(HDFSBackedStateStoreProvider.scala:671)\n",
            "\tat org.apache.spark.sql.execution.streaming.state.HDFSBackedStateStoreProvider.$anonfun$doSnapshot$4(HDFSBackedStateStoreProvider.scala:785)\n",
            "\tat scala.runtime.java8.JFunction0$mcV$sp.apply(JFunction0$mcV$sp.scala:18)\n",
            "\tat org.apache.spark.util.Utils$.timeTakenMs(Utils.scala:481)\n",
            "\tat org.apache.spark.sql.execution.streaming.state.HDFSBackedStateStoreProvider.doSnapshot(HDFSBackedStateStoreProvider.scala:785)\n",
            "\tat org.apache.spark.sql.execution.streaming.state.HDFSBackedStateStoreProvider.doMaintenance(HDFSBackedStateStoreProvider.scala:369)\n",
            "\tat org.apache.spark.sql.execution.streaming.state.StateStore$.$anonfun$doMaintenance$3(StateStore.scala:959)\n",
            "\tat java.base/java.util.concurrent.ThreadPoolExecutor.runWorker(ThreadPoolExecutor.java:1136)\n",
            "\tat java.base/java.util.concurrent.ThreadPoolExecutor$Worker.run(ThreadPoolExecutor.java:635)\n",
            "\tat java.base/java.lang.Thread.run(Thread.java:840)\n",
            "25/07/09 11:20:54 WARN HDFSBackedStateStoreProvider: Error cleaning up files for HDFSStateStoreProvider[id = (op=0,part=121),dir = file:/tmp/temporary-a064bbda-2abd-4530-88c7-4af8974fab7e/state/0/121]\n",
            "java.lang.IllegalArgumentException: requirement failed\n",
            "\tat scala.Predef$.require(Predef.scala:324)\n",
            "\tat org.apache.spark.sql.execution.streaming.state.HDFSBackedStateStoreProvider.filesForVersion(HDFSBackedStateStoreProvider.scala:834)\n",
            "\tat org.apache.spark.sql.execution.streaming.state.HDFSBackedStateStoreProvider.cleanup(HDFSBackedStateStoreProvider.scala:811)\n",
            "\tat org.apache.spark.sql.execution.streaming.state.HDFSBackedStateStoreProvider.doMaintenance(HDFSBackedStateStoreProvider.scala:370)\n",
            "\tat org.apache.spark.sql.execution.streaming.state.StateStore$.$anonfun$doMaintenance$3(StateStore.scala:959)\n",
            "\tat java.base/java.util.concurrent.ThreadPoolExecutor.runWorker(ThreadPoolExecutor.java:1136)\n",
            "\tat java.base/java.util.concurrent.ThreadPoolExecutor$Worker.run(ThreadPoolExecutor.java:635)\n",
            "\tat java.base/java.lang.Thread.run(Thread.java:840)\n",
            "25/07/09 11:20:54 WARN FileUtil: Failed to delete file or dir [/tmp/temporary-a064bbda-2abd-4530-88c7-4af8974fab7e/state/0/137]: it still exists.\n",
            "25/07/09 11:20:54 WARN FileUtil: Failed to delete file or dir [/tmp/temporary-a064bbda-2abd-4530-88c7-4af8974fab7e/state/0/172]: it still exists.\n",
            "25/07/09 11:20:54 WARN HDFSBackedStateStoreProvider: Error doing snapshots for HDFSStateStoreProvider[id = (op=0,part=28),dir = file:/tmp/temporary-a064bbda-2abd-4530-88c7-4af8974fab7e/state/0/28]\n",
            "java.io.FileNotFoundException: File file:/tmp/temporary-a064bbda-2abd-4530-88c7-4af8974fab7e/state/0/28/..155.snapshot.7c5bd809-cf5d-4034-9a6a-b3176699bcca.tmp.crc does not exist\n",
            "\tat org.apache.hadoop.fs.RawLocalFileSystem.deprecatedGetFileStatus(RawLocalFileSystem.java:917)\n",
            "\tat org.apache.hadoop.fs.RawLocalFileSystem.getFileLinkStatusInternal(RawLocalFileSystem.java:1238)\n",
            "\tat org.apache.hadoop.fs.RawLocalFileSystem.getFileStatus(RawLocalFileSystem.java:907)\n",
            "\tat org.apache.hadoop.fs.RawLocalFileSystem.deprecatedGetFileLinkStatusInternal(RawLocalFileSystem.java:1254)\n",
            "\tat org.apache.hadoop.fs.RawLocalFileSystem.getFileLinkStatusInternal(RawLocalFileSystem.java:1240)\n",
            "\tat org.apache.hadoop.fs.RawLocalFileSystem.getFileLinkStatus(RawLocalFileSystem.java:1211)\n",
            "\tat org.apache.hadoop.fs.FileSystem.rename(FileSystem.java:1673)\n",
            "\tat org.apache.hadoop.fs.DelegateToFileSystem.renameInternal(DelegateToFileSystem.java:211)\n",
            "\tat org.apache.hadoop.fs.AbstractFileSystem.renameInternal(AbstractFileSystem.java:896)\n",
            "\tat org.apache.hadoop.fs.AbstractFileSystem.rename(AbstractFileSystem.java:807)\n",
            "\tat org.apache.hadoop.fs.ChecksumFs.renameInternal(ChecksumFs.java:519)\n",
            "\tat org.apache.hadoop.fs.AbstractFileSystem.rename(AbstractFileSystem.java:807)\n",
            "\tat org.apache.hadoop.fs.FileContext.rename(FileContext.java:1044)\n",
            "\tat org.apache.spark.sql.execution.streaming.FileContextBasedCheckpointFileManager.renameTempFile(CheckpointFileManager.scala:376)\n",
            "\tat org.apache.spark.sql.execution.streaming.CheckpointFileManager$RenameBasedFSDataOutputStream.close(CheckpointFileManager.scala:156)\n",
            "\tat net.jpountz.lz4.LZ4BlockOutputStream.close(LZ4BlockOutputStream.java:198)\n",
            "\tat java.base/java.io.FilterOutputStream.close(FilterOutputStream.java:188)\n",
            "\tat org.apache.spark.sql.execution.streaming.state.HDFSBackedStateStoreProvider.writeSnapshotFile(HDFSBackedStateStoreProvider.scala:671)\n",
            "\tat org.apache.spark.sql.execution.streaming.state.HDFSBackedStateStoreProvider.$anonfun$doSnapshot$4(HDFSBackedStateStoreProvider.scala:785)\n",
            "\tat scala.runtime.java8.JFunction0$mcV$sp.apply(JFunction0$mcV$sp.scala:18)\n",
            "\tat org.apache.spark.util.Utils$.timeTakenMs(Utils.scala:481)\n",
            "\tat org.apache.spark.sql.execution.streaming.state.HDFSBackedStateStoreProvider.doSnapshot(HDFSBackedStateStoreProvider.scala:785)\n",
            "\tat org.apache.spark.sql.execution.streaming.state.HDFSBackedStateStoreProvider.doMaintenance(HDFSBackedStateStoreProvider.scala:369)\n",
            "\tat org.apache.spark.sql.execution.streaming.state.StateStore$.$anonfun$doMaintenance$3(StateStore.scala:959)\n",
            "\tat java.base/java.util.concurrent.ThreadPoolExecutor.runWorker(ThreadPoolExecutor.java:1136)\n",
            "\tat java.base/java.util.concurrent.ThreadPoolExecutor$Worker.run(ThreadPoolExecutor.java:635)\n",
            "\tat java.base/java.lang.Thread.run(Thread.java:840)\n",
            "25/07/09 11:20:54 WARN HDFSBackedStateStoreProvider: Error cleaning up files for HDFSStateStoreProvider[id = (op=0,part=28),dir = file:/tmp/temporary-a064bbda-2abd-4530-88c7-4af8974fab7e/state/0/28]\n",
            "java.lang.IllegalArgumentException: requirement failed\n",
            "\tat scala.Predef$.require(Predef.scala:324)\n",
            "\tat org.apache.spark.sql.execution.streaming.state.HDFSBackedStateStoreProvider.filesForVersion(HDFSBackedStateStoreProvider.scala:834)\n",
            "\tat org.apache.spark.sql.execution.streaming.state.HDFSBackedStateStoreProvider.cleanup(HDFSBackedStateStoreProvider.scala:811)\n",
            "\tat org.apache.spark.sql.execution.streaming.state.HDFSBackedStateStoreProvider.doMaintenance(HDFSBackedStateStoreProvider.scala:370)\n",
            "\tat org.apache.spark.sql.execution.streaming.state.StateStore$.$anonfun$doMaintenance$3(StateStore.scala:959)\n",
            "\tat java.base/java.util.concurrent.ThreadPoolExecutor.runWorker(ThreadPoolExecutor.java:1136)\n",
            "\tat java.base/java.util.concurrent.ThreadPoolExecutor$Worker.run(ThreadPoolExecutor.java:635)\n",
            "\tat java.base/java.lang.Thread.run(Thread.java:840)\n",
            "25/07/09 11:20:54 WARN HDFSBackedStateStoreProvider: Error doing snapshots for HDFSStateStoreProvider[id = (op=0,part=55),dir = file:/tmp/temporary-a064bbda-2abd-4530-88c7-4af8974fab7e/state/0/55]\n",
            "java.io.FileNotFoundException: File file:/tmp/temporary-a064bbda-2abd-4530-88c7-4af8974fab7e/state/0/55/.155.snapshot.6c55213a-75b1-43aa-9936-d25353459a70.tmp does not exist\n",
            "\tat org.apache.hadoop.fs.RawLocalFileSystem.deprecatedGetFileStatus(RawLocalFileSystem.java:917)\n",
            "\tat org.apache.hadoop.fs.RawLocalFileSystem.getFileLinkStatusInternal(RawLocalFileSystem.java:1238)\n",
            "\tat org.apache.hadoop.fs.RawLocalFileSystem.getFileStatus(RawLocalFileSystem.java:907)\n",
            "\tat org.apache.hadoop.fs.RawLocalFileSystem.deprecatedGetFileLinkStatusInternal(RawLocalFileSystem.java:1254)\n",
            "\tat org.apache.hadoop.fs.RawLocalFileSystem.getFileLinkStatusInternal(RawLocalFileSystem.java:1240)\n",
            "\tat org.apache.hadoop.fs.RawLocalFileSystem.getFileLinkStatus(RawLocalFileSystem.java:1211)\n",
            "\tat org.apache.hadoop.fs.DelegateToFileSystem.getFileLinkStatus(DelegateToFileSystem.java:138)\n",
            "\tat org.apache.hadoop.fs.AbstractFileSystem.renameInternal(AbstractFileSystem.java:853)\n",
            "\tat org.apache.hadoop.fs.AbstractFileSystem.rename(AbstractFileSystem.java:807)\n",
            "\tat org.apache.hadoop.fs.ChecksumFs.renameInternal(ChecksumFs.java:512)\n",
            "\tat org.apache.hadoop.fs.AbstractFileSystem.rename(AbstractFileSystem.java:807)\n",
            "\tat org.apache.hadoop.fs.FileContext.rename(FileContext.java:1044)\n",
            "\tat org.apache.spark.sql.execution.streaming.FileContextBasedCheckpointFileManager.renameTempFile(CheckpointFileManager.scala:376)\n",
            "\tat org.apache.spark.sql.execution.streaming.CheckpointFileManager$RenameBasedFSDataOutputStream.close(CheckpointFileManager.scala:156)\n",
            "\tat net.jpountz.lz4.LZ4BlockOutputStream.close(LZ4BlockOutputStream.java:198)\n",
            "\tat java.base/java.io.FilterOutputStream.close(FilterOutputStream.java:188)\n",
            "\tat org.apache.spark.sql.execution.streaming.state.HDFSBackedStateStoreProvider.writeSnapshotFile(HDFSBackedStateStoreProvider.scala:671)\n",
            "\tat org.apache.spark.sql.execution.streaming.state.HDFSBackedStateStoreProvider.$anonfun$doSnapshot$4(HDFSBackedStateStoreProvider.scala:785)\n",
            "\tat scala.runtime.java8.JFunction0$mcV$sp.apply(JFunction0$mcV$sp.scala:18)\n",
            "\tat org.apache.spark.util.Utils$.timeTakenMs(Utils.scala:481)\n",
            "\tat org.apache.spark.sql.execution.streaming.state.HDFSBackedStateStoreProvider.doSnapshot(HDFSBackedStateStoreProvider.scala:785)\n",
            "\tat org.apache.spark.sql.execution.streaming.state.HDFSBackedStateStoreProvider.doMaintenance(HDFSBackedStateStoreProvider.scala:369)\n",
            "\tat org.apache.spark.sql.execution.streaming.state.StateStore$.$anonfun$doMaintenance$3(StateStore.scala:959)\n",
            "\tat java.base/java.util.concurrent.ThreadPoolExecutor.runWorker(ThreadPoolExecutor.java:1136)\n",
            "\tat java.base/java.util.concurrent.ThreadPoolExecutor$Worker.run(ThreadPoolExecutor.java:635)\n",
            "\tat java.base/java.lang.Thread.run(Thread.java:840)\n",
            "25/07/09 11:20:54 WARN DAGScheduler: Failed to cancel job group cee56e47-5491-4eb2-9870-4b74b908d4f1. Cannot find active jobs for it.\n"
          ]
        }
      ],
      "source": [
        "# Stop all active streaming queries\n",
        "for query in spark.streams.active:\n",
        "    print(f\"Stopping query: {query.name}\")\n",
        "    query.stop()"
      ]
    },
    {
      "cell_type": "code",
      "execution_count": 11,
      "id": "a45e200d",
      "metadata": {},
      "outputs": [
        {
          "name": "stderr",
          "output_type": "stream",
          "text": [
            "25/07/09 11:21:34 WARN ResolveWriteToStream: Temporary checkpoint location created which is deleted normally when the query didn't fail: /tmp/temporary-ad3f60e9-2c79-406f-b1ee-9e7d482d986a. If it's required to delete it under any circumstances, please set spark.sql.streaming.forceDeleteTempCheckpointLocation to true. Important to know deleting temp checkpoint folder is best effort.\n",
            "25/07/09 11:21:34 WARN ResolveWriteToStream: spark.sql.adaptive.enabled is not supported in streaming DataFrames/Datasets and will be disabled.\n"
          ]
        },
        {
          "name": "stdout",
          "output_type": "stream",
          "text": [
            "Processing first few files...\n"
          ]
        },
        {
          "name": "stderr",
          "output_type": "stream",
          "text": [
            "                                                                                \r"
          ]
        },
        {
          "name": "stdout",
          "output_type": "stream",
          "text": [
            "+----------+--------------------+------------------+\n",
            "|CustomerId|              window|   sum(total_cost)|\n",
            "+----------+--------------------+------------------+\n",
            "|      NULL|{2010-12-01 00:00...|12584.299999999988|\n",
            "|   13777.0|{2010-12-01 00:00...|           6585.16|\n",
            "|   16029.0|{2010-12-01 00:00...|           3702.12|\n",
            "|   16210.0|{2010-12-01 00:00...|2474.7399999999993|\n",
            "|   12433.0|{2010-12-01 00:00...|1919.1400000000008|\n",
            "+----------+--------------------+------------------+\n",
            "only showing top 5 rows\n"
          ]
        },
        {
          "name": "stderr",
          "output_type": "stream",
          "text": [
            "25/07/09 11:21:49 WARN DAGScheduler: Failed to cancel job group 5f4ba34c-d594-4030-a8d8-59466f168255. Cannot find active jobs for it.\n",
            "25/07/09 11:21:49 ERROR WriteToDataSourceV2Exec: Data source write support MicroBatchWrite[epoch: 2, writer: org.apache.spark.sql.execution.streaming.sources.MemoryStreamingWrite@6a93b7e1] is aborting.\n",
            "25/07/09 11:21:49 ERROR WriteToDataSourceV2Exec: Data source write support MicroBatchWrite[epoch: 2, writer: org.apache.spark.sql.execution.streaming.sources.MemoryStreamingWrite@6a93b7e1] aborted.\n"
          ]
        },
        {
          "name": "stdout",
          "output_type": "stream",
          "text": [
            "Streaming query stopped.\n"
          ]
        },
        {
          "name": "stderr",
          "output_type": "stream",
          "text": [
            "25/07/09 11:21:50 WARN TaskSetManager: Lost task 6.0 in stage 329.0 (TID 33098) (35d0d6e9-2f8f-4ad3-8320-b3a34f12d48b.internal.cloudapp.net executor driver): TaskKilled (Stage cancelled: [SPARK_JOB_CANCELLED] Job 169 cancelled Query customer_purchases [id = efce98b5-a8a7-4736-8e8e-b86e910821ae, runId = 5f4ba34c-d594-4030-a8d8-59466f168255] was stopped SQLSTATE: XXKDA)\n",
            "25/07/09 11:21:50 ERROR ShuffleBlockFetcherIterator: Error occurred while fetching local blocks, null\n",
            "25/07/09 11:21:50 WARN TaskSetManager: Lost task 3.0 in stage 329.0 (TID 33097) (35d0d6e9-2f8f-4ad3-8320-b3a34f12d48b.internal.cloudapp.net executor driver): TaskKilled (Stage cancelled: [SPARK_JOB_CANCELLED] Job 169 cancelled Query customer_purchases [id = efce98b5-a8a7-4736-8e8e-b86e910821ae, runId = 5f4ba34c-d594-4030-a8d8-59466f168255] was stopped SQLSTATE: XXKDA)\n"
          ]
        }
      ],
      "source": [
        "# 1. Store the query reference so we can stop it\n",
        "query = purchaseByCustomerPerHour.writeStream \\\n",
        "  .format(\"memory\") \\\n",
        "  .queryName(\"customer_purchases\") \\\n",
        "  .outputMode(\"complete\") \\\n",
        "  .start()\n",
        "\n",
        "# 2. Wait a short time for some data to process\n",
        "import time\n",
        "print(\"Processing first few files...\")\n",
        "time.sleep(10)  # Wait 10 seconds\n",
        "\n",
        "# 3. Check if we have results\n",
        "result = spark.sql(\"\"\"\n",
        "  SELECT *\n",
        "  FROM customer_purchases\n",
        "  ORDER BY `sum(total_cost)` DESC\n",
        "\"\"\")\n",
        "result.show(5)\n",
        "\n",
        "# 4. Check if the table is empty\n",
        "if result.count() == 0:\n",
        "    print(\"No data found. Let's check the path...\")\n",
        "    # Check if files exist at the specified path\n",
        "    import glob\n",
        "    files = glob.glob(\"../data/retail-data/by-day/*.csv\")\n",
        "    print(f\"Found {len(files)} CSV files at the path\")\n",
        "    if len(files) > 0:\n",
        "        print(f\"First few files: {files[:3]}\")\n",
        "    else:\n",
        "        print(\"No CSV files found. Check your data path.\")\n",
        "\n",
        "# 5. Stop the query when done\n",
        "query.stop()\n",
        "print(\"Streaming query stopped.\")"
      ]
    },
    {
      "cell_type": "markdown",
      "metadata": {
        "language": "markdown"
      },
      "source": [
        "# 8. Feature Engineering Pipeline\n",
        "Index day_of_week, one-hot encode, assemble features."
      ]
    },
    {
      "cell_type": "code",
      "execution_count": 12,
      "metadata": {
        "language": "python"
      },
      "outputs": [
        {
          "name": "stderr",
          "output_type": "stream",
          "text": [
            "                                                                                \r"
          ]
        }
      ],
      "source": [
        "from pyspark.sql.functions import date_format\n",
        "from pyspark.ml.feature import StringIndexer, OneHotEncoder, VectorAssembler\n",
        "from pyspark.ml import Pipeline\n",
        "\n",
        "preppedDataFrame = staticDataFrame \\\n",
        "  .na.fill(0) \\\n",
        "  .withColumn(\"day_of_week\", date_format(col(\"InvoiceDate\"), \"EEEE\")) \\\n",
        "  .coalesce(5)\n",
        "\n",
        "trainDataFrame = preppedDataFrame.where(\"InvoiceDate < '2011-07-01'\")\n",
        "testDataFrame  = preppedDataFrame.where(\"InvoiceDate >= '2011-07-01'\")\n",
        "\n",
        "indexer = StringIndexer(inputCol=\"day_of_week\", outputCol=\"day_of_week_index\")\n",
        "encoder = OneHotEncoder(inputCol=\"day_of_week_index\", outputCol=\"day_of_week_encoded\")\n",
        "assembler = VectorAssembler(inputCols=[\"UnitPrice\",\"Quantity\",\"day_of_week_encoded\"], outputCol=\"features\")\n",
        "pipeline = Pipeline(stages=[indexer, encoder, assembler])\n",
        "fittedPipeline = pipeline.fit(trainDataFrame)\n",
        "transformedTraining = fittedPipeline.transform(trainDataFrame)"
      ]
    },
    {
      "cell_type": "markdown",
      "metadata": {
        "language": "markdown"
      },
      "source": [
        "# 9. KMeans Clustering\n",
        "Fit and predict 20 clusters on feature vectors."
      ]
    },
    {
      "cell_type": "code",
      "execution_count": 13,
      "metadata": {
        "language": "python"
      },
      "outputs": [
        {
          "name": "stderr",
          "output_type": "stream",
          "text": [
            "25/07/09 11:29:14 WARN InstanceBuilder: Failed to load implementation from:dev.ludovic.netlib.blas.JNIBLAS\n",
            "                                                                                \r"
          ]
        }
      ],
      "source": [
        "from pyspark.ml.clustering import KMeans\n",
        "\n",
        "kmeans = KMeans().setK(20).setSeed(1)\n",
        "kmModel = kmeans.fit(transformedTraining)\n",
        "transformedTest = fittedPipeline.transform(testDataFrame)"
      ]
    },
    {
      "cell_type": "markdown",
      "metadata": {
        "language": "markdown"
      },
      "source": [
        "# 10. Simple Parallelize Example\n",
        "Demonstrate parallelize + toDF()."
      ]
    },
    {
      "cell_type": "code",
      "execution_count": 14,
      "metadata": {
        "language": "python"
      },
      "outputs": [
        {
          "name": "stderr",
          "output_type": "stream",
          "text": [
            "                                                                                \r"
          ]
        },
        {
          "name": "stdout",
          "output_type": "stream",
          "text": [
            "+---+\n",
            "| _1|\n",
            "+---+\n",
            "|  1|\n",
            "|  2|\n",
            "|  3|\n",
            "+---+\n",
            "\n"
          ]
        }
      ],
      "source": [
        "from pyspark.sql import Row\n",
        "\n",
        "spark.sparkContext.parallelize([Row(1), Row(2), Row(3)]).toDF().show()"
      ]
    },
    {
      "cell_type": "code",
      "execution_count": 16,
      "id": "7e28764d",
      "metadata": {},
      "outputs": [
        {
          "name": "stdout",
          "output_type": "stream",
          "text": [
            "Shape of cluster centers: 20 clusters with 7 features each\n"
          ]
        },
        {
          "name": "stderr",
          "output_type": "stream",
          "text": [
            "                                                                                \r"
          ]
        }
      ],
      "source": [
        "# 11. Visualize KMeans Clusters\n",
        "import matplotlib.pyplot as plt\n",
        "import numpy as np\n",
        "from pyspark.ml.feature import PCA\n",
        "from pyspark.ml.linalg import Vectors  # Add this import\n",
        "\n",
        "# Extract cluster centers for visualization\n",
        "centers = kmModel.clusterCenters()\n",
        "print(f\"Shape of cluster centers: {len(centers)} clusters with {len(centers[0])} features each\")\n",
        "\n",
        "# If features are high-dimensional, reduce to 2D for visualization\n",
        "if len(centers[0]) > 2:\n",
        "    # Apply PCA to reduce to 2 dimensions\n",
        "    pca = PCA(k=2, inputCol=\"features\", outputCol=\"pca_features\")\n",
        "    pca_model = pca.fit(transformedTraining)\n",
        "    \n",
        "    # Transform centers to 2D\n",
        "    center_rows = spark.createDataFrame(\n",
        "        [Row(features=Vectors.dense(center)) for center in centers]\n",
        "    )\n",
        "    centers_2d = pca_model.transform(center_rows).select(\"pca_features\").rdd.map(\n",
        "        lambda row: row.pca_features\n",
        "    ).collect()\n",
        "    \n",
        "    # Get sample points from each cluster\n",
        "    sample_points = kmModel.transform(transformedTraining).select(\n",
        "        \"features\", \"prediction\"\n",
        "    ).sample(False, 0.05).cache()\n",
        "    \n",
        "    # Transform sample points to 2D\n",
        "    points_2d = pca_model.transform(sample_points).select(\n",
        "        \"pca_features\", \"prediction\"\n",
        "    ).collect()\n",
        "else:\n",
        "    # Use original features if already 2D\n",
        "    centers_2d = centers\n",
        "    sample_points = kmModel.transform(transformedTraining).select(\n",
        "        \"features\", \"prediction\"\n",
        "    ).sample(False, 0.05).collect()\n",
        "    points_2d = sample_points"
      ]
    },
    {
      "cell_type": "code",
      "execution_count": 18,
      "id": "43a8a405",
      "metadata": {},
      "outputs": [
        {
          "data": {
            "image/png": "[encoded data removed]",
            "text/plain": [
              "<Figure size 1200x1000 with 1 Axes>"
            ]
          },
          "metadata": {},
          "output_type": "display_data"
        }
      ],
      "source": [
        "# 12. Plot Clusters (Improved Visibility)\n",
        "plt.figure(figsize=(12, 10))  # Larger figure\n",
        "\n",
        "# Create a colormap for the clusters\n",
        "colors = plt.cm.rainbow(np.linspace(0, 1, 20))\n",
        "\n",
        "# Plot sample points colored by cluster\n",
        "for i in range(20):\n",
        "    cluster_points = [p.pca_features.toArray() for p in points_2d if p.prediction == i]\n",
        "    if cluster_points:\n",
        "        cluster_points = np.array(cluster_points)\n",
        "        plt.scatter(\n",
        "            cluster_points[:, 0], \n",
        "            cluster_points[:, 1], \n",
        "            s=40,  # Slightly larger points\n",
        "            color=colors[i], \n",
        "            alpha=0.6,  # More opaque\n",
        "            label=f\"Cluster {i}\"\n",
        "        )\n",
        "\n",
        "# Plot cluster centers - SMALLER now\n",
        "centers_2d_array = np.array([c.toArray() for c in centers_2d])\n",
        "plt.scatter(\n",
        "    centers_2d_array[:, 0], \n",
        "    centers_2d_array[:, 1], \n",
        "    s=100,  # Reduced from 200\n",
        "    marker='X', \n",
        "    color='black', \n",
        "    alpha=0.8,  # Slightly transparent\n",
        "    linewidth=2,  # Add outline\n",
        "    edgecolor='white',  # White outline\n",
        "    label='Cluster Centers'\n",
        ")\n",
        "\n",
        "plt.title(\"KMeans Clusters Visualization (PCA-reduced)\", fontsize=14)\n",
        "plt.xlabel(\"Principal Component 1\", fontsize=12)\n",
        "plt.ylabel(\"Principal Component 2\", fontsize=12)\n",
        "\n",
        "# Move legend outside plot area completely\n",
        "plt.legend(loc='center left', bbox_to_anchor=(1.01, 0.5), fontsize=10)\n",
        "plt.tight_layout()\n",
        "plt.grid(alpha=0.15)  # Light grid\n",
        "plt.show()"
      ]
    },
    {
      "cell_type": "code",
      "execution_count": null,
      "id": "80173fbf",
      "metadata": {},
      "outputs": [],
      "source": []
    }
  ],
  "metadata": {
    "kernelspec": {
      "display_name": "PySpark",
      "language": "python",
      "name": "pyspark"
    },
    "language_info": {
      "codemirror_mode": {
        "name": "ipython",
        "version": 3
      },
      "file_extension": ".py",
      "mimetype": "text/x-python",
      "name": "python",
      "nbconvert_exporter": "python",
      "pygments_lexer": "ipython3",
      "version": "3.12.1"
    }
  },
  "nbformat": 4,
  "nbformat_minor": 5
}
