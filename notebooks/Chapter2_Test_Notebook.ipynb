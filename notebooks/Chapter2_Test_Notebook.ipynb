{
 "cells": [
  {
   "cell_type": "markdown",
   "id": "94bea7ac",
   "metadata": {
    "language": "markdown"
   },
   "source": [
    "# 1. Import Required Libraries and Initialize SparkSession\n",
    "Import `SparkSession` from `pyspark.sql` and create a Spark session."
   ]
  },
  {
   "cell_type": "code",
   "execution_count": 1,
   "id": "52c17a5f",
   "metadata": {},
   "outputs": [],
   "source": [
    "import os\n",
    "os.environ['JAVA_HOME'] = '/usr/lib/jvm/java-17-openjdk-amd64'\n",
    "os.environ['PATH'] = os.environ['JAVA_HOME'] + '/bin:' + os.environ['PATH']"
   ]
  },
  {
   "cell_type": "code",
   "execution_count": 2,
   "id": "2a2159b9",
   "metadata": {
    "language": "python"
   },
   "outputs": [
    {
     "name": "stderr",
     "output_type": "stream",
     "text": [
      "WARNING: Using incubator modules: jdk.incubator.vector\n",
      "Using Spark's default log4j profile: org/apache/spark/log4j2-defaults.properties\n",
      "25/07/05 16:01:15 WARN Utils: Your hostname, codespaces-1164d4, resolves to a loopback address: 127.0.0.1; using 10.0.1.55 instead (on interface eth0)\n",
      "25/07/05 16:01:15 WARN Utils: Set SPARK_LOCAL_IP if you need to bind to another address\n",
      "Using Spark's default log4j profile: org/apache/spark/log4j2-defaults.properties\n",
      "25/07/05 16:01:15 WARN Utils: Your hostname, codespaces-1164d4, resolves to a loopback address: 127.0.0.1; using 10.0.1.55 instead (on interface eth0)\n",
      "25/07/05 16:01:15 WARN Utils: Set SPARK_LOCAL_IP if you need to bind to another address\n",
      "Using Spark's default log4j profile: org/apache/spark/log4j2-defaults.properties\n",
      "Setting default log level to \"WARN\".\n",
      "To adjust logging level use sc.setLogLevel(newLevel). For SparkR, use setLogLevel(newLevel).\n",
      "Using Spark's default log4j profile: org/apache/spark/log4j2-defaults.properties\n",
      "Setting default log level to \"WARN\".\n",
      "To adjust logging level use sc.setLogLevel(newLevel). For SparkR, use setLogLevel(newLevel).\n",
      "25/07/05 16:01:17 WARN NativeCodeLoader: Unable to load native-hadoop library for your platform... using builtin-java classes where applicable\n",
      "25/07/05 16:01:17 WARN NativeCodeLoader: Unable to load native-hadoop library for your platform... using builtin-java classes where applicable\n"
     ]
    }
   ],
   "source": [
    "from pyspark.sql import SparkSession\n",
    "spark = SparkSession.builder.appName(\"Chapter 2 Example\").getOrCreate()"
   ]
  },
  {
   "cell_type": "markdown",
   "id": "9091e311",
   "metadata": {
    "language": "markdown"
   },
   "source": [
    "# 2. Create a DataFrame with a Range of Numbers\n",
    "Use `spark.range(1000)` to build a DataFrame of numbers from 0 to 999 and show its schema."
   ]
  },
  {
   "cell_type": "code",
   "execution_count": 3,
   "id": "ff4b3508",
   "metadata": {
    "language": "python"
   },
   "outputs": [
    {
     "name": "stdout",
     "output_type": "stream",
     "text": [
      "root\n",
      " |-- number: long (nullable = false)\n",
      "\n",
      "+------+\n",
      "|number|\n",
      "+------+\n",
      "|     0|\n",
      "|     1|\n",
      "|     2|\n",
      "|     3|\n",
      "|     4|\n",
      "+------+\n",
      "only showing top 5 rows\n",
      "+------+\n",
      "|number|\n",
      "+------+\n",
      "|     0|\n",
      "|     1|\n",
      "|     2|\n",
      "|     3|\n",
      "|     4|\n",
      "+------+\n",
      "only showing top 5 rows\n"
     ]
    }
   ],
   "source": [
    "myRange = spark.range(1000).toDF(\"number\")\n",
    "myRange.printSchema()\n",
    "myRange.show(5)"
   ]
  },
  {
   "cell_type": "markdown",
   "id": "f6a31eea",
   "metadata": {
    "language": "markdown"
   },
   "source": [
    "# 3. Filter DataFrame for Even Numbers\n",
    "Select only even numbers using a `where` clause."
   ]
  },
  {
   "cell_type": "code",
   "execution_count": 5,
   "id": "5949c832",
   "metadata": {
    "language": "python"
   },
   "outputs": [
    {
     "name": "stdout",
     "output_type": "stream",
     "text": [
      "+------+\n",
      "|number|\n",
      "+------+\n",
      "|     0|\n",
      "|     2|\n",
      "|     4|\n",
      "|     6|\n",
      "|     8|\n",
      "+------+\n",
      "only showing top 5 rows\n"
     ]
    }
   ],
   "source": [
    "divisBy2 = myRange.where(\"number % 2 = 0\")\n",
    "divisBy2.show(5)"
   ]
  },
  {
   "cell_type": "markdown",
   "id": "e4f5dc3c",
   "metadata": {
    "language": "markdown"
   },
   "source": [
    "# 4. Read CSV Data into DataFrame\n",
    "Load the 2015 flight-summary CSV with inferred schema and header."
   ]
  },
  {
   "cell_type": "code",
   "execution_count": 8,
   "id": "9e94da47",
   "metadata": {
    "language": "python"
   },
   "outputs": [
    {
     "name": "stdout",
     "output_type": "stream",
     "text": [
      "root\n",
      " |-- DEST_COUNTRY_NAME: string (nullable = true)\n",
      " |-- ORIGIN_COUNTRY_NAME: string (nullable = true)\n",
      " |-- count: integer (nullable = true)\n",
      "\n"
     ]
    }
   ],
   "source": [
    "flightData2015 = (\n",
    "    spark.read\n",
    "    .option(\"inferSchema\", \"true\")\n",
    "    .option(\"header\", \"true\")\n",
    "    .csv(\"../data/flight-data/csv/2015-summary.csv\")\n",
    ")\n",
    "flightData2015.printSchema()"
   ]
  },
  {
   "cell_type": "markdown",
   "id": "5b6de29e",
   "metadata": {
    "language": "markdown"
   },
   "source": [
    "# 5. Create Temporary SQL View\n",
    "Register the DataFrame as a temp view for SQL queries."
   ]
  },
  {
   "cell_type": "code",
   "execution_count": 9,
   "id": "084f85c4",
   "metadata": {
    "language": "python"
   },
   "outputs": [],
   "source": [
    "flightData2015.createOrReplaceTempView(\"flight_data_2015\")"
   ]
  },
  {
   "cell_type": "markdown",
   "id": "c151516b",
   "metadata": {
    "language": "markdown"
   },
   "source": [
    "# 6. Group and Count Using SQL and DataFrame APIs\n",
    "Count the number of flights per destination with both SQL and DataFrame methods."
   ]
  },
  {
   "cell_type": "code",
   "execution_count": 10,
   "id": "bb1ed60b",
   "metadata": {
    "language": "python"
   },
   "outputs": [
    {
     "name": "stdout",
     "output_type": "stream",
     "text": [
      "+-----------------+---+\n",
      "|DEST_COUNTRY_NAME|cnt|\n",
      "+-----------------+---+\n",
      "|         Anguilla|  1|\n",
      "|           Russia|  1|\n",
      "|         Paraguay|  1|\n",
      "|          Senegal|  1|\n",
      "|           Sweden|  1|\n",
      "+-----------------+---+\n",
      "only showing top 5 rows\n",
      "+-----------------+-----+\n",
      "|DEST_COUNTRY_NAME|count|\n",
      "+-----------------+-----+\n",
      "|         Anguilla|    1|\n",
      "|           Russia|    1|\n",
      "|         Paraguay|    1|\n",
      "|          Senegal|    1|\n",
      "|           Sweden|    1|\n",
      "+-----------------+-----+\n",
      "only showing top 5 rows\n"
     ]
    }
   ],
   "source": [
    "sqlWay = spark.sql(\"\"\"\n",
    "SELECT DEST_COUNTRY_NAME, count(1) AS cnt\n",
    "FROM flight_data_2015\n",
    "GROUP BY DEST_COUNTRY_NAME\n",
    "\"\"\")\n",
    "dataFrameWay = flightData2015.groupBy(\"DEST_COUNTRY_NAME\").count()\n",
    "sqlWay.show(5)\n",
    "dataFrameWay.show(5)"
   ]
  },
  {
   "cell_type": "markdown",
   "id": "01ecb573",
   "metadata": {
    "language": "markdown"
   },
   "source": [
    "# 7. Explain Query Execution Plans\n",
    "Use `explain()` to inspect physical plans."
   ]
  },
  {
   "cell_type": "code",
   "execution_count": 11,
   "id": "3730351a",
   "metadata": {
    "language": "python"
   },
   "outputs": [
    {
     "name": "stdout",
     "output_type": "stream",
     "text": [
      "SQL plan:\n",
      "== Physical Plan ==\n",
      "AdaptiveSparkPlan isFinalPlan=false\n",
      "+- HashAggregate(keys=[DEST_COUNTRY_NAME#27], functions=[count(1)])\n",
      "   +- Exchange hashpartitioning(DEST_COUNTRY_NAME#27, 200), ENSURE_REQUIREMENTS, [plan_id=153]\n",
      "      +- HashAggregate(keys=[DEST_COUNTRY_NAME#27], functions=[partial_count(1)])\n",
      "         +- FileScan csv [DEST_COUNTRY_NAME#27] Batched: false, DataFilters: [], Format: CSV, Location: InMemoryFileIndex(1 paths)[file:/workspaces/Spark-The-Definitive-Guide/data/flight-data/csv/2015-..., PartitionFilters: [], PushedFilters: [], ReadSchema: struct<DEST_COUNTRY_NAME:string>\n",
      "\n",
      "\n",
      "DataFrame plan:\n",
      "== Physical Plan ==\n",
      "AdaptiveSparkPlan isFinalPlan=false\n",
      "+- HashAggregate(keys=[DEST_COUNTRY_NAME#27], functions=[count(1)])\n",
      "   +- Exchange hashpartitioning(DEST_COUNTRY_NAME#27, 200), ENSURE_REQUIREMENTS, [plan_id=166]\n",
      "      +- HashAggregate(keys=[DEST_COUNTRY_NAME#27], functions=[partial_count(1)])\n",
      "         +- FileScan csv [DEST_COUNTRY_NAME#27] Batched: false, DataFilters: [], Format: CSV, Location: InMemoryFileIndex(1 paths)[file:/workspaces/Spark-The-Definitive-Guide/data/flight-data/csv/2015-..., PartitionFilters: [], PushedFilters: [], ReadSchema: struct<DEST_COUNTRY_NAME:string>\n",
      "\n",
      "\n"
     ]
    }
   ],
   "source": [
    "print(\"SQL plan:\")\n",
    "sqlWay.explain()\n",
    "print(\"DataFrame plan:\")\n",
    "dataFrameWay.explain()"
   ]
  },
  {
   "cell_type": "markdown",
   "id": "1df87e66",
   "metadata": {
    "language": "markdown"
   },
   "source": [
    "# 8. Find Maximum Value in a Column\n",
    "Use `pyspark.sql.functions.max` to get the max of the `count` column."
   ]
  },
  {
   "cell_type": "code",
   "execution_count": 12,
   "id": "8e46fa86",
   "metadata": {
    "language": "python"
   },
   "outputs": [
    {
     "name": "stdout",
     "output_type": "stream",
     "text": [
      "+----------+\n",
      "|max(count)|\n",
      "+----------+\n",
      "|    370002|\n",
      "+----------+\n",
      "\n"
     ]
    }
   ],
   "source": [
    "from pyspark.sql.functions import max\n",
    "flightData2015.select(max(\"count\")).show()"
   ]
  },
  {
   "cell_type": "markdown",
   "id": "c5cd1809",
   "metadata": {
    "language": "markdown"
   },
   "source": [
    "# 9. Aggregate and Sort Data Using SQL\n",
    "Sum counts by destination, sort descending, limit to top 5."
   ]
  },
  {
   "cell_type": "code",
   "execution_count": 13,
   "id": "d3029bde",
   "metadata": {
    "language": "python"
   },
   "outputs": [
    {
     "name": "stdout",
     "output_type": "stream",
     "text": [
      "+-----------------+-----------------+\n",
      "|DEST_COUNTRY_NAME|destination_total|\n",
      "+-----------------+-----------------+\n",
      "|    United States|           411352|\n",
      "|           Canada|             8399|\n",
      "|           Mexico|             7140|\n",
      "|   United Kingdom|             2025|\n",
      "|            Japan|             1548|\n",
      "+-----------------+-----------------+\n",
      "\n"
     ]
    }
   ],
   "source": [
    "maxSql = spark.sql(\"\"\"\n",
    "SELECT DEST_COUNTRY_NAME, sum(count) AS destination_total\n",
    "FROM flight_data_2015\n",
    "GROUP BY DEST_COUNTRY_NAME\n",
    "ORDER BY destination_total DESC\n",
    "LIMIT 5\n",
    "\"\"\")\n",
    "maxSql.show()"
   ]
  },
  {
   "cell_type": "markdown",
   "id": "cf5ae4ca",
   "metadata": {
    "language": "markdown"
   },
   "source": [
    "# 10. Aggregate and Sort Data Using DataFrame API\n",
    "Perform the same aggregation in the DataFrame API."
   ]
  },
  {
   "cell_type": "code",
   "execution_count": 15,
   "id": "c8cb58ef",
   "metadata": {
    "language": "python"
   },
   "outputs": [
    {
     "name": "stdout",
     "output_type": "stream",
     "text": [
      "+-----------------+-----------------+\n",
      "|DEST_COUNTRY_NAME|destination_total|\n",
      "+-----------------+-----------------+\n",
      "|    United States|           411352|\n",
      "|           Canada|             8399|\n",
      "|           Mexico|             7140|\n",
      "|   United Kingdom|             2025|\n",
      "|            Japan|             1548|\n",
      "+-----------------+-----------------+\n",
      "\n"
     ]
    }
   ],
   "source": [
    "from pyspark.sql.functions import desc\n",
    "flightData2015.groupBy(\"DEST_COUNTRY_NAME\") \\\n",
    "    .sum(\"count\") \\\n",
    "    .withColumnRenamed(\"sum(count)\", \"destination_total\") \\\n",
    "    .sort(desc(\"destination_total\")) \\\n",
    "    .limit(5) \\\n",
    "    .show()"
   ]
  },
  {
   "cell_type": "markdown",
   "id": "a32afbfb",
   "metadata": {
    "language": "markdown"
   },
   "source": [
    "# 11. Explain Aggregation Query Execution Plan\n",
    "Inspect the physical plan for the DataFrame aggregation+sort query."
   ]
  },
  {
   "cell_type": "code",
   "execution_count": 16,
   "id": "96bb070e",
   "metadata": {
    "language": "python"
   },
   "outputs": [
    {
     "name": "stdout",
     "output_type": "stream",
     "text": [
      "== Physical Plan ==\n",
      "AdaptiveSparkPlan isFinalPlan=false\n",
      "+- TakeOrderedAndProject(limit=5, orderBy=[destination_total#108L DESC NULLS LAST], output=[DEST_COUNTRY_NAME#27,destination_total#108L])\n",
      "   +- HashAggregate(keys=[DEST_COUNTRY_NAME#27], functions=[sum(count#29)])\n",
      "      +- Exchange hashpartitioning(DEST_COUNTRY_NAME#27, 200), ENSURE_REQUIREMENTS, [plan_id=307]\n",
      "         +- HashAggregate(keys=[DEST_COUNTRY_NAME#27], functions=[partial_sum(count#29)])\n",
      "            +- FileScan csv [DEST_COUNTRY_NAME#27,count#29] Batched: false, DataFilters: [], Format: CSV, Location: InMemoryFileIndex(1 paths)[file:/workspaces/Spark-The-Definitive-Guide/data/flight-data/csv/2015-..., PartitionFilters: [], PushedFilters: [], ReadSchema: struct<DEST_COUNTRY_NAME:string,count:int>\n",
      "\n",
      "\n"
     ]
    }
   ],
   "source": [
    "(\n",
    "    flightData2015\n",
    "    .groupBy(\"DEST_COUNTRY_NAME\")\n",
    "    .sum(\"count\")\n",
    "    .withColumnRenamed(\"sum(count)\", \"destination_total\")\n",
    "    .sort(desc(\"destination_total\"))\n",
    "    .limit(5)\n",
    "    .explain()\n",
    ")"
   ]
  },
  {
   "cell_type": "markdown",
   "id": "8b3a0115",
   "metadata": {},
   "source": [
    "# 12. View Spark Web UI\n",
    "Get the Spark UI URL for this session and open it in your browser."
   ]
  },
  {
   "cell_type": "code",
   "execution_count": 4,
   "id": "5777809a",
   "metadata": {},
   "outputs": [
    {
     "name": "stdout",
     "output_type": "stream",
     "text": [
      "Spark UI available at: http://e6daf8a3-3328-4fd7-8a84-171ec9947db1.internal.cloudapp.net:4040\n"
     ]
    },
    {
     "data": {
      "text/html": [
       "<a href='http://e6daf8a3-3328-4fd7-8a84-171ec9947db1.internal.cloudapp.net:4040' target='_blank'>http://e6daf8a3-3328-4fd7-8a84-171ec9947db1.internal.cloudapp.net:4040</a>"
      ],
      "text/plain": [
       "<IPython.core.display.HTML object>"
      ]
     },
     "execution_count": 4,
     "metadata": {},
     "output_type": "execute_result"
    }
   ],
   "source": [
    "# 12a. Retrieve and display Spark Web UI URL\n",
    "ui_url = spark.sparkContext.uiWebUrl\n",
    "print(\"Spark UI available at:\", ui_url)\n",
    "from IPython.display import HTML\n",
    "HTML(f\"<a href='{ui_url}' target='_blank'>{ui_url}</a>\")"
   ]
  },
  {
   "cell_type": "code",
   "execution_count": null,
   "id": "9e773b35",
   "metadata": {},
   "outputs": [],
   "source": []
  }
 ],
 "metadata": {
  "kernelspec": {
   "display_name": "PySpark",
   "language": "python",
   "name": "pyspark"
  },
  "language_info": {
   "codemirror_mode": {
    "name": "ipython",
    "version": 3
   },
   "file_extension": ".py",
   "mimetype": "text/x-python",
   "name": "python",
   "nbconvert_exporter": "python",
   "pygments_lexer": "ipython3",
   "version": "3.12.1"
  }
 },
 "nbformat": 4,
 "nbformat_minor": 5
}
